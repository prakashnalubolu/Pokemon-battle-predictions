{
  "metadata": {
    "kernelspec": {
      "language": "python",
      "display_name": "Python 3",
      "name": "python3"
    },
    "language_info": {
      "name": "python",
      "version": "3.10.13",
      "mimetype": "text/x-python",
      "codemirror_mode": {
        "name": "ipython",
        "version": 3
      },
      "pygments_lexer": "ipython3",
      "nbconvert_exporter": "python",
      "file_extension": ".py"
    },
    "kaggle": {
      "accelerator": "none",
      "dataSources": [
        {
          "sourceId": 4359,
          "sourceType": "datasetVersion",
          "datasetId": 2619
        }
      ],
      "dockerImageVersionId": 30732,
      "isInternetEnabled": true,
      "language": "python",
      "sourceType": "notebook",
      "isGpuEnabled": false
    },
    "colab": {
      "name": "weedle cave battle predictions",
      "provenance": [],
      "include_colab_link": true
    }
  },
  "nbformat_minor": 0,
  "nbformat": 4,
  "cells": [
    {
      "cell_type": "markdown",
      "metadata": {
        "id": "view-in-github",
        "colab_type": "text"
      },
      "source": [
        "<a href=\"https://colab.research.google.com/github/prakashnalubolu/Pokemon-battle-predictions/blob/main/weedle_cave_battle_predictions.ipynb\" target=\"_parent\"><img src=\"https://colab.research.google.com/assets/colab-badge.svg\" alt=\"Open In Colab\"/></a>"
      ]
    },
    {
      "source": [
        "\n",
        "# IMPORTANT: RUN THIS CELL IN ORDER TO IMPORT YOUR KAGGLE DATA SOURCES\n",
        "# TO THE CORRECT LOCATION (/kaggle/input) IN YOUR NOTEBOOK,\n",
        "# THEN FEEL FREE TO DELETE THIS CELL.\n",
        "# NOTE: THIS NOTEBOOK ENVIRONMENT DIFFERS FROM KAGGLE'S PYTHON\n",
        "# ENVIRONMENT SO THERE MAY BE MISSING LIBRARIES USED BY YOUR\n",
        "# NOTEBOOK.\n",
        "\n",
        "import os\n",
        "import sys\n",
        "from tempfile import NamedTemporaryFile\n",
        "from urllib.request import urlopen\n",
        "from urllib.parse import unquote, urlparse\n",
        "from urllib.error import HTTPError\n",
        "from zipfile import ZipFile\n",
        "import tarfile\n",
        "import shutil\n",
        "\n",
        "CHUNK_SIZE = 40960\n",
        "DATA_SOURCE_MAPPING = 'pokemon-challenge:https%3A%2F%2Fstorage.googleapis.com%2Fkaggle-data-sets%2F2619%2F4359%2Fbundle%2Farchive.zip%3FX-Goog-Algorithm%3DGOOG4-RSA-SHA256%26X-Goog-Credential%3Dgcp-kaggle-com%2540kaggle-161607.iam.gserviceaccount.com%252F20240917%252Fauto%252Fstorage%252Fgoog4_request%26X-Goog-Date%3D20240917T231306Z%26X-Goog-Expires%3D259200%26X-Goog-SignedHeaders%3Dhost%26X-Goog-Signature%3D0ee1569a05f8d570184b2da29ebbcec4861f0896e4ba746f825028055b4da3ad2d4f51fb10d77d15d9ceaebb91f78e61a0a26912e87c549e5f87d1ec347471abcd35d3d147ae37e054f7226b08bc8da454785f89297fcd95167d8ce0843877a503d2e0ffffc32a111b37976485084f916e903305c75c181fd374f6a3ac064832c89789914917ca07f51f934d213680a02ed24340393e38136f58116656dc735496619a7aebb74c6c00bd9a42ba91a8d104344cb8b588a98d3454ef33976ea0cd1b2b70fe02f3f80e5c581e8be472136cd6caf73790380024edfa03fee06b56f16a0843ba7c9357d9f84343eab1fe93039ab0c2ead0188f4c536b06aef76c6159'\n",
        "\n",
        "KAGGLE_INPUT_PATH='/kaggle/input'\n",
        "KAGGLE_WORKING_PATH='/kaggle/working'\n",
        "KAGGLE_SYMLINK='kaggle'\n",
        "\n",
        "!umount /kaggle/input/ 2> /dev/null\n",
        "shutil.rmtree('/kaggle/input', ignore_errors=True)\n",
        "os.makedirs(KAGGLE_INPUT_PATH, 0o777, exist_ok=True)\n",
        "os.makedirs(KAGGLE_WORKING_PATH, 0o777, exist_ok=True)\n",
        "\n",
        "try:\n",
        "  os.symlink(KAGGLE_INPUT_PATH, os.path.join(\"..\", 'input'), target_is_directory=True)\n",
        "except FileExistsError:\n",
        "  pass\n",
        "try:\n",
        "  os.symlink(KAGGLE_WORKING_PATH, os.path.join(\"..\", 'working'), target_is_directory=True)\n",
        "except FileExistsError:\n",
        "  pass\n",
        "\n",
        "for data_source_mapping in DATA_SOURCE_MAPPING.split(','):\n",
        "    directory, download_url_encoded = data_source_mapping.split(':')\n",
        "    download_url = unquote(download_url_encoded)\n",
        "    filename = urlparse(download_url).path\n",
        "    destination_path = os.path.join(KAGGLE_INPUT_PATH, directory)\n",
        "    try:\n",
        "        with urlopen(download_url) as fileres, NamedTemporaryFile() as tfile:\n",
        "            total_length = fileres.headers['content-length']\n",
        "            print(f'Downloading {directory}, {total_length} bytes compressed')\n",
        "            dl = 0\n",
        "            data = fileres.read(CHUNK_SIZE)\n",
        "            while len(data) > 0:\n",
        "                dl += len(data)\n",
        "                tfile.write(data)\n",
        "                done = int(50 * dl / int(total_length))\n",
        "                sys.stdout.write(f\"\\r[{'=' * done}{' ' * (50-done)}] {dl} bytes downloaded\")\n",
        "                sys.stdout.flush()\n",
        "                data = fileres.read(CHUNK_SIZE)\n",
        "            if filename.endswith('.zip'):\n",
        "              with ZipFile(tfile) as zfile:\n",
        "                zfile.extractall(destination_path)\n",
        "            else:\n",
        "              with tarfile.open(tfile.name) as tarfile:\n",
        "                tarfile.extractall(destination_path)\n",
        "            print(f'\\nDownloaded and uncompressed: {directory}')\n",
        "    except HTTPError as e:\n",
        "        print(f'Failed to load (likely expired) {download_url} to path {destination_path}')\n",
        "        continue\n",
        "    except OSError as e:\n",
        "        print(f'Failed to load {download_url} to path {destination_path}')\n",
        "        continue\n",
        "\n",
        "print('Data source import complete.')\n"
      ],
      "metadata": {
        "id": "4IbDkFQdQszu",
        "outputId": "e30d84dc-daa9-4d8c-bfe7-4f137dfffb16",
        "colab": {
          "base_uri": "https://localhost:8080/"
        }
      },
      "cell_type": "code",
      "outputs": [
        {
          "output_type": "stream",
          "name": "stdout",
          "text": [
            "Downloading pokemon-challenge, 291852 bytes compressed\n",
            "[==================================================] 291852 bytes downloaded\n",
            "Downloaded and uncompressed: pokemon-challenge\n",
            "Data source import complete.\n"
          ]
        }
      ],
      "execution_count": 1
    },
    {
      "cell_type": "code",
      "source": [
        "# This Python 3 environment comes with many helpful analytics libraries installed\n",
        "# It is defined by the kaggle/python Docker image: https://github.com/kaggle/docker-python\n",
        "# For example, here's several helpful packages to load\n",
        "\n",
        "import numpy as np # linear algebra\n",
        "import pandas as pd # data processing, CSV file I/O (e.g. pd.read_csv)\n",
        "\n",
        "# Input data files are available in the read-only \"../input/\" directory\n",
        "# For example, running this (by clicking run or pressing Shift+Enter) will list all files under the input directory\n",
        "\n",
        "import os\n",
        "for dirname, _, filenames in os.walk('/kaggle/input'):\n",
        "    for filename in filenames:\n",
        "        print(os.path.join(dirname, filename))\n",
        "\n",
        "# You can write up to 20GB to the current directory (/kaggle/working/) that gets preserved as output when you create a version using \"Save & Run All\"\n",
        "# You can also write temporary files to /kaggle/temp/, but they won't be saved outside of the current session"
      ],
      "metadata": {
        "_uuid": "8f2839f25d086af736a60e9eeb907d3b93b6e0e5",
        "_cell_guid": "b1076dfc-b9ad-4769-8c92-a6c4dae69d19",
        "execution": {
          "iopub.status.busy": "2024-07-07T21:20:43.907442Z",
          "iopub.execute_input": "2024-07-07T21:20:43.908206Z",
          "iopub.status.idle": "2024-07-07T21:20:45.08382Z",
          "shell.execute_reply.started": "2024-07-07T21:20:43.908169Z",
          "shell.execute_reply": "2024-07-07T21:20:45.082429Z"
        },
        "trusted": true,
        "id": "OlYFJf8mQszx",
        "outputId": "15c725b1-e6ca-44ba-d5bf-aa5b2430bda5",
        "colab": {
          "base_uri": "https://localhost:8080/"
        }
      },
      "execution_count": 2,
      "outputs": [
        {
          "output_type": "stream",
          "name": "stdout",
          "text": [
            "/kaggle/input/pokemon-challenge/combats.csv\n",
            "/kaggle/input/pokemon-challenge/tests.csv\n",
            "/kaggle/input/pokemon-challenge/pokemon.csv\n"
          ]
        }
      ]
    },
    {
      "cell_type": "code",
      "source": [
        "combat_file_path = '/kaggle/input/pokemon-challenge/combats.csv'\n",
        "combat_data = pd.read_csv(combat_file_path)\n",
        "\n",
        "#combat_data.describe()\n",
        "\n",
        "first_few_rows_combat_data = combat_data.head(5)\n",
        "print(first_few_rows_combat_data)"
      ],
      "metadata": {
        "execution": {
          "iopub.status.busy": "2024-07-07T21:20:49.089372Z",
          "iopub.execute_input": "2024-07-07T21:20:49.090312Z",
          "iopub.status.idle": "2024-07-07T21:20:49.145539Z",
          "shell.execute_reply.started": "2024-07-07T21:20:49.090263Z",
          "shell.execute_reply": "2024-07-07T21:20:49.144523Z"
        },
        "trusted": true,
        "id": "TDpfLgkGQszy",
        "outputId": "0136576b-85ff-41c7-b060-3180a8782e19",
        "colab": {
          "base_uri": "https://localhost:8080/"
        }
      },
      "execution_count": 3,
      "outputs": [
        {
          "output_type": "stream",
          "name": "stdout",
          "text": [
            "   First_pokemon  Second_pokemon  Winner\n",
            "0            266             298     298\n",
            "1            702             701     701\n",
            "2            191             668     668\n",
            "3            237             683     683\n",
            "4            151             231     151\n"
          ]
        }
      ]
    },
    {
      "cell_type": "code",
      "source": [
        "pokemon_file_path = '/kaggle/input/pokemon-challenge/pokemon.csv'\n",
        "pokemon_data = pd.read_csv(pokemon_file_path)\n",
        "\n",
        "pokemon_data.describe()\n",
        "\n",
        "first_few_rows_pokemon_data = pokemon_data.tail(1)\n",
        "print(first_few_rows_pokemon_data)"
      ],
      "metadata": {
        "execution": {
          "iopub.status.busy": "2024-07-07T21:20:54.818316Z",
          "iopub.execute_input": "2024-07-07T21:20:54.818725Z",
          "iopub.status.idle": "2024-07-07T21:20:54.936109Z",
          "shell.execute_reply.started": "2024-07-07T21:20:54.818691Z",
          "shell.execute_reply": "2024-07-07T21:20:54.935072Z"
        },
        "trusted": true,
        "id": "dEU4IzvwQszy",
        "outputId": "ffe65e46-6fe5-4348-e25c-95bf62242538",
        "colab": {
          "base_uri": "https://localhost:8080/"
        }
      },
      "execution_count": 4,
      "outputs": [
        {
          "output_type": "stream",
          "name": "stdout",
          "text": [
            "       #       Name Type 1 Type 2  HP  Attack  Defense  Sp. Atk  Sp. Def  \\\n",
            "799  800  Volcanion   Fire  Water  80     110      120      130       90   \n",
            "\n",
            "     Speed  Generation  Legendary  \n",
            "799     70           6       True  \n"
          ]
        }
      ]
    },
    {
      "cell_type": "code",
      "source": [
        "tests_file_path = '/kaggle/input/pokemon-challenge/tests.csv'\n",
        "test_data = pd.read_csv(tests_file_path)\n",
        "\n",
        "#tests_data.describe()\n",
        "\n",
        "first_few_rows_tests_data = test_data.head(1)\n",
        "print(first_few_rows_tests_data)"
      ],
      "metadata": {
        "execution": {
          "iopub.status.busy": "2024-07-07T21:20:59.265063Z",
          "iopub.execute_input": "2024-07-07T21:20:59.265643Z",
          "iopub.status.idle": "2024-07-07T21:20:59.293549Z",
          "shell.execute_reply.started": "2024-07-07T21:20:59.265602Z",
          "shell.execute_reply": "2024-07-07T21:20:59.292217Z"
        },
        "trusted": true,
        "id": "j4qBbBm-Qszy",
        "outputId": "c7efb363-9775-450e-a24f-b15e82bb2df2",
        "colab": {
          "base_uri": "https://localhost:8080/"
        }
      },
      "execution_count": 5,
      "outputs": [
        {
          "output_type": "stream",
          "name": "stdout",
          "text": [
            "   First_pokemon  Second_pokemon\n",
            "0            129             117\n"
          ]
        }
      ]
    },
    {
      "cell_type": "code",
      "source": [
        "import pandas as pd\n",
        "\n",
        "print(\"Combat Data Columns:\", combat_data.columns.tolist())\n",
        "print(\"Pokemon Data Columns:\", pokemon_data.columns.tolist())\n"
      ],
      "metadata": {
        "execution": {
          "iopub.status.busy": "2024-07-07T21:21:03.776401Z",
          "iopub.execute_input": "2024-07-07T21:21:03.776779Z",
          "iopub.status.idle": "2024-07-07T21:21:03.78258Z",
          "shell.execute_reply.started": "2024-07-07T21:21:03.776751Z",
          "shell.execute_reply": "2024-07-07T21:21:03.781323Z"
        },
        "trusted": true,
        "id": "wbbU7_94Qszy",
        "outputId": "b3ad7b91-587e-4e4c-d3f0-edb5f0115d80",
        "colab": {
          "base_uri": "https://localhost:8080/"
        }
      },
      "execution_count": 6,
      "outputs": [
        {
          "output_type": "stream",
          "name": "stdout",
          "text": [
            "Combat Data Columns: ['First_pokemon', 'Second_pokemon', 'Winner']\n",
            "Pokemon Data Columns: ['#', 'Name', 'Type 1', 'Type 2', 'HP', 'Attack', 'Defense', 'Sp. Atk', 'Sp. Def', 'Speed', 'Generation', 'Legendary']\n"
          ]
        }
      ]
    },
    {
      "cell_type": "code",
      "source": [
        "import pandas as pd\n",
        "\n",
        "# Merge combat data with pokemon data for the first Pokémon\n",
        "combat_data = combat_data.merge(pokemon_data, left_on='First_pokemon', right_on='#', how='left', suffixes=('', '_first'))\n",
        "\n",
        "# Merge combat data with pokemon data for the second Pokémon\n",
        "combat_data = combat_data.merge(pokemon_data, left_on='Second_pokemon', right_on='#', how='left', suffixes=('_first', '_second'))\n",
        "\n",
        "# Feature engineering: differences between the first and second Pokémon's attributes\n",
        "for feature in ['HP', 'Attack', 'Defense', 'Sp. Atk', 'Sp. Def', 'Speed']:\n",
        "    combat_data[f'{feature}_diff'] = combat_data[f'{feature}_first'] - combat_data[f'{feature}_second']\n",
        "\n",
        "# Drop redundant columns (columns with '#' as they are just the ID columns repeated)\n",
        "combat_data.drop(columns=['#_first', '#_second'], inplace=True)\n",
        "\n",
        "# Preview the enriched combat data\n",
        "print(combat_data.head(10))\n",
        "\n",
        "print(\"Combat Data Columns:\", combat_data.columns.tolist())"
      ],
      "metadata": {
        "execution": {
          "iopub.status.busy": "2024-07-07T21:21:12.988342Z",
          "iopub.execute_input": "2024-07-07T21:21:12.988739Z",
          "iopub.status.idle": "2024-07-07T21:21:13.075055Z",
          "shell.execute_reply.started": "2024-07-07T21:21:12.988708Z",
          "shell.execute_reply": "2024-07-07T21:21:13.073991Z"
        },
        "trusted": true,
        "id": "5qM8Wf8KQszy",
        "outputId": "64ea95ea-18c6-4176-f766-cba5f39fb6a3",
        "colab": {
          "base_uri": "https://localhost:8080/"
        }
      },
      "execution_count": 7,
      "outputs": [
        {
          "output_type": "stream",
          "name": "stdout",
          "text": [
            "   First_pokemon  Second_pokemon  Winner Name_first Type 1_first Type 2_first  \\\n",
            "0            266             298     298   Larvitar         Rock       Ground   \n",
            "1            702             701     701   Virizion        Grass     Fighting   \n",
            "2            191             668     668    Togetic        Fairy       Flying   \n",
            "3            237             683     683     Slugma         Fire          NaN   \n",
            "4            151             231     151    Omastar         Rock        Water   \n",
            "5            657             752     657     Joltik          Bug     Electric   \n",
            "6            192             134     134       Natu      Psychic       Flying   \n",
            "7             73             545     545     Machop     Fighting          NaN   \n",
            "8            220             763     763     Pineco          Bug          NaN   \n",
            "9            302              31      31    Wingull        Water       Flying   \n",
            "\n",
            "   HP_first  Attack_first  Defense_first  Sp. Atk_first  ...  Sp. Def_second  \\\n",
            "0        50            64             50             45  ...              40   \n",
            "1        91            90             72             90  ...              90   \n",
            "2        55            40             85             80  ...              95   \n",
            "3        40            40             40             70  ...              90   \n",
            "4        70            60            125            115  ...             230   \n",
            "5        50            47             50             57  ...             150   \n",
            "6        40            50             45             70  ...              95   \n",
            "7        70            80             50             35  ...             120   \n",
            "8        50            65             90             35  ...              63   \n",
            "9        40            30             30             55  ...              50   \n",
            "\n",
            "   Speed_second  Generation_second  Legendary_second HP_diff Attack_diff  \\\n",
            "0            60                  3             False     -20          -6   \n",
            "1           108                  5              True       0         -39   \n",
            "2            40                  5             False     -20         -35   \n",
            "3            48                  5             False     -37         -80   \n",
            "4             5                  2             False      50          50   \n",
            "5            60                  6             False     -10          -3   \n",
            "6            95                  1             False     -25           0   \n",
            "7            90                  4              True     -80         -20   \n",
            "8            44                  6             False       0          12   \n",
            "9            90                  1             False       5         -25   \n",
            "\n",
            "  Defense_diff  Sp. Atk_diff  Sp. Def_diff  Speed_diff  \n",
            "0           10           -15            10         -19  \n",
            "1          -18            18            39           0  \n",
            "2           10           -45            10           0  \n",
            "3          -50            10           -50         -28  \n",
            "4         -105           105          -160          50  \n",
            "5         -100             7          -100           5  \n",
            "6           10           -45           -50         -25  \n",
            "7          -70           -65           -85         -55  \n",
            "8           28           -23           -28         -29  \n",
            "9          -10             5           -20          -5  \n",
            "\n",
            "[10 rows x 31 columns]\n",
            "Combat Data Columns: ['First_pokemon', 'Second_pokemon', 'Winner', 'Name_first', 'Type 1_first', 'Type 2_first', 'HP_first', 'Attack_first', 'Defense_first', 'Sp. Atk_first', 'Sp. Def_first', 'Speed_first', 'Generation_first', 'Legendary_first', 'Name_second', 'Type 1_second', 'Type 2_second', 'HP_second', 'Attack_second', 'Defense_second', 'Sp. Atk_second', 'Sp. Def_second', 'Speed_second', 'Generation_second', 'Legendary_second', 'HP_diff', 'Attack_diff', 'Defense_diff', 'Sp. Atk_diff', 'Sp. Def_diff', 'Speed_diff']\n"
          ]
        }
      ]
    },
    {
      "cell_type": "code",
      "source": [
        "import pandas as pd\n",
        "from sklearn.model_selection import train_test_split\n",
        "from sklearn.ensemble import RandomForestClassifier\n",
        "from sklearn.metrics import accuracy_score, precision_score, recall_score, f1_score, roc_auc_score\n",
        "from sklearn.preprocessing import StandardScaler\n",
        "from collections import Counter\n",
        "\n",
        "# Load the data (assuming combat_data and pokemon_data are already loaded and merged as described)\n",
        "# Split the data into features and target\n",
        "X = combat_data[['HP_diff', 'Attack_diff', 'Defense_diff', 'Sp. Atk_diff', 'Sp. Def_diff', 'Speed_diff']]\n",
        "y = combat_data['Winner']\n",
        "\n",
        "# Encode the target variable correctly\n",
        "y = combat_data.apply(lambda row: 1 if row['Winner'] == row['First_pokemon'] else 0, axis=1)\n",
        "\n",
        "# Check class distribution\n",
        "print(\"Class distribution in target variable:\", Counter(y))\n",
        "\n",
        "# Standardize features\n",
        "scaler = StandardScaler()\n",
        "X_scaled = scaler.fit_transform(X)\n",
        "\n",
        "# Split the data into training and testing sets\n",
        "X_train, X_test, y_train, y_test = train_test_split(X_scaled, y, test_size=0.2, random_state=42)\n",
        "\n",
        "# Train the logistic regression model\n",
        "model = RandomForestClassifier(n_estimators = 100, random_state = 42)\n",
        "model.fit(X_train, y_train)\n",
        "\n",
        "# Make predictions\n",
        "y_pred = model.predict(X_test)\n",
        "\n",
        "# Evaluate the model\n",
        "accuracy = accuracy_score(y_test, y_pred)\n",
        "precision = precision_score(y_test, y_pred, zero_division=1)\n",
        "recall = recall_score(y_test, y_pred, zero_division=1)\n",
        "f1 = f1_score(y_test, y_pred, zero_division=1)\n",
        "roc_auc = roc_auc_score(y_test, y_pred)\n",
        "\n",
        "print(f'Accuracy: {accuracy}')\n",
        "print(f'Precision: {precision}')\n",
        "print(f'Recall: {recall}')\n",
        "print(f'F1 Score: {f1}')\n",
        "print(f'ROC AUC Score: {roc_auc}')\n",
        "\n",
        "\n",
        "print(\"Test Data Columns:\", test_data.columns.tolist())"
      ],
      "metadata": {
        "execution": {
          "iopub.status.busy": "2024-07-07T21:23:17.243945Z",
          "iopub.execute_input": "2024-07-07T21:23:17.244375Z",
          "iopub.status.idle": "2024-07-07T21:23:25.415078Z",
          "shell.execute_reply.started": "2024-07-07T21:23:17.244342Z",
          "shell.execute_reply": "2024-07-07T21:23:25.413977Z"
        },
        "trusted": true,
        "id": "YQuHXZPvQszz",
        "outputId": "f07590b3-f644-48e9-b7b8-2c4c29666ef9",
        "colab": {
          "base_uri": "https://localhost:8080/"
        }
      },
      "execution_count": 8,
      "outputs": [
        {
          "output_type": "stream",
          "name": "stdout",
          "text": [
            "Class distribution in target variable: Counter({0: 26399, 1: 23601})\n",
            "Accuracy: 0.95\n",
            "Precision: 0.9410910599460692\n",
            "Recall: 0.954555017883442\n",
            "F1 Score: 0.9477752245665343\n",
            "ROC AUC Score: 0.9502144252748637\n",
            "Test Data Columns: ['First_pokemon', 'Second_pokemon']\n"
          ]
        }
      ]
    },
    {
      "cell_type": "code",
      "source": [
        "# Prepare the test data for prediction\n",
        "test_data = test_data.merge(pokemon_data, left_on='First_pokemon', right_on='#', how='left', suffixes=('', '_first'))\n",
        "test_data = test_data.merge(pokemon_data, left_on='Second_pokemon', right_on='#', how='left', suffixes=('_first', '_second'))\n",
        "\n",
        "# Feature engineering for test data\n",
        "for feature in ['HP', 'Attack', 'Defense', 'Sp. Atk', 'Sp. Def', 'Speed']:\n",
        "    test_data[f'{feature}_diff'] = test_data[f'{feature}_first'] - test_data[f'{feature}_second']\n",
        "\n",
        "# Drop redundant columns\n",
        "test_data.drop(columns=['#_first', '#_second'], inplace=True)\n",
        "\n",
        "# Standardize the test data\n",
        "X_test_final = scaler.transform(test_data[['HP_diff', 'Attack_diff', 'Defense_diff', 'Sp. Atk_diff', 'Sp. Def_diff', 'Speed_diff']])\n",
        "\n",
        "# Make predictions\n",
        "test_data['Prediction'] = model.predict(X_test_final)\n",
        "\n",
        "# Map predictions to Pokémon IDs\n",
        "test_data['Winning_Pokemon'] = test_data.apply(lambda row: row['First_pokemon'] if row['Prediction'] == 1 else row['Second_pokemon'], axis=1)\n",
        "\n",
        "# Print the result with Pokémon IDs\n",
        "print(test_data[['First_pokemon', 'Second_pokemon', 'Winning_Pokemon']])\n",
        "\n"
      ],
      "metadata": {
        "execution": {
          "iopub.status.busy": "2024-07-07T21:23:43.48994Z",
          "iopub.execute_input": "2024-07-07T21:23:43.490748Z",
          "iopub.status.idle": "2024-07-07T21:23:43.82106Z",
          "shell.execute_reply.started": "2024-07-07T21:23:43.490712Z",
          "shell.execute_reply": "2024-07-07T21:23:43.819954Z"
        },
        "trusted": true,
        "id": "Y7fH62jwQszz",
        "outputId": "39f8666c-1b3c-43bc-df19-f0c655718959",
        "colab": {
          "base_uri": "https://localhost:8080/"
        }
      },
      "execution_count": 9,
      "outputs": [
        {
          "output_type": "stream",
          "name": "stdout",
          "text": [
            "      First_pokemon  Second_pokemon  Winning_Pokemon\n",
            "0               129             117              129\n",
            "1               660             211              211\n",
            "2               706             115              706\n",
            "3               195             618              618\n",
            "4                27             656               27\n",
            "...             ...             ...              ...\n",
            "9995            216             498              498\n",
            "9996            113             404              404\n",
            "9997            493             104              493\n",
            "9998            643             259              643\n",
            "9999            678             531              531\n",
            "\n",
            "[10000 rows x 3 columns]\n"
          ]
        }
      ]
    }
  ]
}